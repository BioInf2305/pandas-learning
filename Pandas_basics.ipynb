{
 "cells": [
  {
   "cell_type": "code",
   "execution_count": 1,
   "metadata": {},
   "outputs": [],
   "source": [
    "import urllib.request\n",
    "import pandas as pd\n"
   ]
  },
  {
   "cell_type": "code",
   "execution_count": 2,
   "metadata": {},
   "outputs": [],
   "source": [
    "source_url = \"ftp://ftp.ncbi.nlm.nih.gov/genomes/refseq/bacteria/Escherichia_coli/reference/GCF_000005845.2_ASM584v2/GCF_000005845.2_ASM584v2_genomic.gff.gz\"\n",
    "gff_file = \"E_coli.gff.gz\"\n"
   ]
  },
  {
   "cell_type": "code",
   "execution_count": 3,
   "metadata": {},
   "outputs": [
    {
     "data": {
      "text/plain": [
       "('E_coli.gff.gz', <email.message.Message at 0x1f8e86e3e08>)"
      ]
     },
     "execution_count": 3,
     "metadata": {},
     "output_type": "execute_result"
    }
   ],
   "source": [
    "urllib.request.urlretrieve(source_url, gff_file)\n"
   ]
  },
  {
   "cell_type": "code",
   "execution_count": 4,
   "metadata": {},
   "outputs": [],
   "source": [
    "gff_data = pd.read_csv(gff_file, sep =\"\\t\", comment ='#', names=[\"seqid\", \"source\", \"type\", \"start\", \"end\", \"score\", \"strand\", \"phase\", \"attributes\"])\n"
   ]
  },
  {
   "cell_type": "code",
   "execution_count": 5,
   "metadata": {},
   "outputs": [
    {
     "data": {
      "text/html": [
       "<div>\n",
       "<style scoped>\n",
       "    .dataframe tbody tr th:only-of-type {\n",
       "        vertical-align: middle;\n",
       "    }\n",
       "\n",
       "    .dataframe tbody tr th {\n",
       "        vertical-align: top;\n",
       "    }\n",
       "\n",
       "    .dataframe thead th {\n",
       "        text-align: right;\n",
       "    }\n",
       "</style>\n",
       "<table border=\"1\" class=\"dataframe\">\n",
       "  <thead>\n",
       "    <tr style=\"text-align: right;\">\n",
       "      <th></th>\n",
       "      <th>seqid</th>\n",
       "      <th>source</th>\n",
       "      <th>type</th>\n",
       "      <th>start</th>\n",
       "      <th>end</th>\n",
       "      <th>score</th>\n",
       "      <th>strand</th>\n",
       "      <th>phase</th>\n",
       "      <th>attributes</th>\n",
       "    </tr>\n",
       "  </thead>\n",
       "  <tbody>\n",
       "    <tr>\n",
       "      <td>0</td>\n",
       "      <td>NC_000913.3</td>\n",
       "      <td>RefSeq</td>\n",
       "      <td>region</td>\n",
       "      <td>1</td>\n",
       "      <td>4641652</td>\n",
       "      <td>.</td>\n",
       "      <td>+</td>\n",
       "      <td>.</td>\n",
       "      <td>ID=NC_000913.3:1..4641652;Dbxref=taxon:511145;...</td>\n",
       "    </tr>\n",
       "    <tr>\n",
       "      <td>1</td>\n",
       "      <td>NC_000913.3</td>\n",
       "      <td>RefSeq</td>\n",
       "      <td>gene</td>\n",
       "      <td>190</td>\n",
       "      <td>255</td>\n",
       "      <td>.</td>\n",
       "      <td>+</td>\n",
       "      <td>.</td>\n",
       "      <td>ID=gene-b0001;Dbxref=ASAP:ABE-0000006,ECOCYC:E...</td>\n",
       "    </tr>\n",
       "    <tr>\n",
       "      <td>2</td>\n",
       "      <td>NC_000913.3</td>\n",
       "      <td>RefSeq</td>\n",
       "      <td>CDS</td>\n",
       "      <td>190</td>\n",
       "      <td>255</td>\n",
       "      <td>.</td>\n",
       "      <td>+</td>\n",
       "      <td>0</td>\n",
       "      <td>ID=cds-NP_414542.1;Parent=gene-b0001;Dbxref=Un...</td>\n",
       "    </tr>\n",
       "    <tr>\n",
       "      <td>3</td>\n",
       "      <td>NC_000913.3</td>\n",
       "      <td>RefSeq</td>\n",
       "      <td>gene</td>\n",
       "      <td>337</td>\n",
       "      <td>2799</td>\n",
       "      <td>.</td>\n",
       "      <td>+</td>\n",
       "      <td>.</td>\n",
       "      <td>ID=gene-b0002;Dbxref=ASAP:ABE-0000008,ECOCYC:E...</td>\n",
       "    </tr>\n",
       "    <tr>\n",
       "      <td>4</td>\n",
       "      <td>NC_000913.3</td>\n",
       "      <td>RefSeq</td>\n",
       "      <td>CDS</td>\n",
       "      <td>337</td>\n",
       "      <td>2799</td>\n",
       "      <td>.</td>\n",
       "      <td>+</td>\n",
       "      <td>0</td>\n",
       "      <td>ID=cds-NP_414543.1;Parent=gene-b0002;Dbxref=Un...</td>\n",
       "    </tr>\n",
       "    <tr>\n",
       "      <td>...</td>\n",
       "      <td>...</td>\n",
       "      <td>...</td>\n",
       "      <td>...</td>\n",
       "      <td>...</td>\n",
       "      <td>...</td>\n",
       "      <td>...</td>\n",
       "      <td>...</td>\n",
       "      <td>...</td>\n",
       "      <td>...</td>\n",
       "    </tr>\n",
       "    <tr>\n",
       "      <td>10116</td>\n",
       "      <td>NC_000913.3</td>\n",
       "      <td>RefSeq</td>\n",
       "      <td>CDS</td>\n",
       "      <td>4639590</td>\n",
       "      <td>4640306</td>\n",
       "      <td>.</td>\n",
       "      <td>-</td>\n",
       "      <td>0</td>\n",
       "      <td>ID=cds-NP_418818.1;Parent=gene-b4401;Dbxref=Un...</td>\n",
       "    </tr>\n",
       "    <tr>\n",
       "      <td>10117</td>\n",
       "      <td>NC_000913.3</td>\n",
       "      <td>RefSeq</td>\n",
       "      <td>gene</td>\n",
       "      <td>4640402</td>\n",
       "      <td>4640542</td>\n",
       "      <td>.</td>\n",
       "      <td>+</td>\n",
       "      <td>.</td>\n",
       "      <td>ID=gene-b4402;Dbxref=ASAP:ABE-0014437,ECOCYC:G...</td>\n",
       "    </tr>\n",
       "    <tr>\n",
       "      <td>10118</td>\n",
       "      <td>NC_000913.3</td>\n",
       "      <td>RefSeq</td>\n",
       "      <td>CDS</td>\n",
       "      <td>4640402</td>\n",
       "      <td>4640542</td>\n",
       "      <td>.</td>\n",
       "      <td>+</td>\n",
       "      <td>0</td>\n",
       "      <td>ID=cds-NP_418819.1;Parent=gene-b4402;Dbxref=Un...</td>\n",
       "    </tr>\n",
       "    <tr>\n",
       "      <td>10119</td>\n",
       "      <td>NC_000913.3</td>\n",
       "      <td>RefSeq</td>\n",
       "      <td>gene</td>\n",
       "      <td>4640942</td>\n",
       "      <td>4641628</td>\n",
       "      <td>.</td>\n",
       "      <td>+</td>\n",
       "      <td>.</td>\n",
       "      <td>ID=gene-b4403;Dbxref=ASAP:ABE-0014442,ECOCYC:E...</td>\n",
       "    </tr>\n",
       "    <tr>\n",
       "      <td>10120</td>\n",
       "      <td>NC_000913.3</td>\n",
       "      <td>RefSeq</td>\n",
       "      <td>CDS</td>\n",
       "      <td>4640942</td>\n",
       "      <td>4641628</td>\n",
       "      <td>.</td>\n",
       "      <td>+</td>\n",
       "      <td>0</td>\n",
       "      <td>ID=cds-NP_418820.1;Parent=gene-b4403;Dbxref=Un...</td>\n",
       "    </tr>\n",
       "  </tbody>\n",
       "</table>\n",
       "<p>10121 rows × 9 columns</p>\n",
       "</div>"
      ],
      "text/plain": [
       "             seqid  source    type    start      end score strand phase  \\\n",
       "0      NC_000913.3  RefSeq  region        1  4641652     .      +     .   \n",
       "1      NC_000913.3  RefSeq    gene      190      255     .      +     .   \n",
       "2      NC_000913.3  RefSeq     CDS      190      255     .      +     0   \n",
       "3      NC_000913.3  RefSeq    gene      337     2799     .      +     .   \n",
       "4      NC_000913.3  RefSeq     CDS      337     2799     .      +     0   \n",
       "...            ...     ...     ...      ...      ...   ...    ...   ...   \n",
       "10116  NC_000913.3  RefSeq     CDS  4639590  4640306     .      -     0   \n",
       "10117  NC_000913.3  RefSeq    gene  4640402  4640542     .      +     .   \n",
       "10118  NC_000913.3  RefSeq     CDS  4640402  4640542     .      +     0   \n",
       "10119  NC_000913.3  RefSeq    gene  4640942  4641628     .      +     .   \n",
       "10120  NC_000913.3  RefSeq     CDS  4640942  4641628     .      +     0   \n",
       "\n",
       "                                              attributes  \n",
       "0      ID=NC_000913.3:1..4641652;Dbxref=taxon:511145;...  \n",
       "1      ID=gene-b0001;Dbxref=ASAP:ABE-0000006,ECOCYC:E...  \n",
       "2      ID=cds-NP_414542.1;Parent=gene-b0001;Dbxref=Un...  \n",
       "3      ID=gene-b0002;Dbxref=ASAP:ABE-0000008,ECOCYC:E...  \n",
       "4      ID=cds-NP_414543.1;Parent=gene-b0002;Dbxref=Un...  \n",
       "...                                                  ...  \n",
       "10116  ID=cds-NP_418818.1;Parent=gene-b4401;Dbxref=Un...  \n",
       "10117  ID=gene-b4402;Dbxref=ASAP:ABE-0014437,ECOCYC:G...  \n",
       "10118  ID=cds-NP_418819.1;Parent=gene-b4402;Dbxref=Un...  \n",
       "10119  ID=gene-b4403;Dbxref=ASAP:ABE-0014442,ECOCYC:E...  \n",
       "10120  ID=cds-NP_418820.1;Parent=gene-b4403;Dbxref=Un...  \n",
       "\n",
       "[10121 rows x 9 columns]"
      ]
     },
     "execution_count": 5,
     "metadata": {},
     "output_type": "execute_result"
    }
   ],
   "source": [
    "gff_data\n"
   ]
  },
  {
   "cell_type": "code",
   "execution_count": 6,
   "metadata": {},
   "outputs": [
    {
     "data": {
      "text/plain": [
       "pandas.core.frame.DataFrame"
      ]
     },
     "execution_count": 6,
     "metadata": {},
     "output_type": "execute_result"
    }
   ],
   "source": [
    "type(gff_data)"
   ]
  },
  {
   "cell_type": "code",
   "execution_count": 7,
   "metadata": {},
   "outputs": [
    {
     "data": {
      "text/plain": [
       "0        region\n",
       "1          gene\n",
       "2           CDS\n",
       "3          gene\n",
       "4           CDS\n",
       "          ...  \n",
       "10116       CDS\n",
       "10117      gene\n",
       "10118       CDS\n",
       "10119      gene\n",
       "10120       CDS\n",
       "Name: type, Length: 10121, dtype: object"
      ]
     },
     "execution_count": 7,
     "metadata": {},
     "output_type": "execute_result"
    }
   ],
   "source": [
    "gff_data[\"type\"]\n"
   ]
  },
  {
   "cell_type": "code",
   "execution_count": 13,
   "metadata": {},
   "outputs": [
    {
     "data": {
      "text/plain": [
       "gene                      4419\n",
       "CDS                       4379\n",
       "repeat_region              697\n",
       "exon                       180\n",
       "pseudogene                 166\n",
       "tRNA                        86\n",
       "ncRNA                       72\n",
       "mobile_genetic_element      49\n",
       "sequence_feature            48\n",
       "rRNA                        22\n",
       "region                       1\n",
       "recombination_feature        1\n",
       "origin_of_replication        1\n",
       "Name: type, dtype: int64"
      ]
     },
     "execution_count": 13,
     "metadata": {},
     "output_type": "execute_result"
    }
   ],
   "source": [
    "gff_data[\"type\"].value_counts()"
   ]
  },
  {
   "cell_type": "code",
   "execution_count": 10,
   "metadata": {},
   "outputs": [
    {
     "data": {
      "text/plain": [
       "13"
      ]
     },
     "execution_count": 10,
     "metadata": {},
     "output_type": "execute_result"
    }
   ],
   "source": [
    "len(list(gff_data[\"type\"].unique()))"
   ]
  },
  {
   "cell_type": "code",
   "execution_count": 19,
   "metadata": {},
   "outputs": [],
   "source": [
    "gene_data_genes=gff_data[(gff_data[\"type\"]==\"gene\") & (gff_data[\"strand\"]==\"+\")]"
   ]
  },
  {
   "cell_type": "code",
   "execution_count": 21,
   "metadata": {},
   "outputs": [
    {
     "name": "stderr",
     "output_type": "stream",
     "text": [
      "C:\\Users\\mauli\\Anaconda3\\lib\\site-packages\\ipykernel_launcher.py:1: SettingWithCopyWarning: \n",
      "A value is trying to be set on a copy of a slice from a DataFrame.\n",
      "Try using .loc[row_indexer,col_indexer] = value instead\n",
      "\n",
      "See the caveats in the documentation: http://pandas.pydata.org/pandas-docs/stable/user_guide/indexing.html#returning-a-view-versus-a-copy\n",
      "  \"\"\"Entry point for launching an IPython kernel.\n"
     ]
    }
   ],
   "source": [
    "gene_data_genes[\"length\"]=gene_data_genes[\"end\"]-gene_data_genes[\"start\"]+1"
   ]
  },
  {
   "cell_type": "code",
   "execution_count": 22,
   "metadata": {},
   "outputs": [
    {
     "data": {
      "text/html": [
       "<div>\n",
       "<style scoped>\n",
       "    .dataframe tbody tr th:only-of-type {\n",
       "        vertical-align: middle;\n",
       "    }\n",
       "\n",
       "    .dataframe tbody tr th {\n",
       "        vertical-align: top;\n",
       "    }\n",
       "\n",
       "    .dataframe thead th {\n",
       "        text-align: right;\n",
       "    }\n",
       "</style>\n",
       "<table border=\"1\" class=\"dataframe\">\n",
       "  <thead>\n",
       "    <tr style=\"text-align: right;\">\n",
       "      <th></th>\n",
       "      <th>seqid</th>\n",
       "      <th>source</th>\n",
       "      <th>type</th>\n",
       "      <th>start</th>\n",
       "      <th>end</th>\n",
       "      <th>score</th>\n",
       "      <th>strand</th>\n",
       "      <th>phase</th>\n",
       "      <th>attributes</th>\n",
       "      <th>length</th>\n",
       "    </tr>\n",
       "  </thead>\n",
       "  <tbody>\n",
       "    <tr>\n",
       "      <td>1</td>\n",
       "      <td>NC_000913.3</td>\n",
       "      <td>RefSeq</td>\n",
       "      <td>gene</td>\n",
       "      <td>190</td>\n",
       "      <td>255</td>\n",
       "      <td>.</td>\n",
       "      <td>+</td>\n",
       "      <td>.</td>\n",
       "      <td>ID=gene-b0001;Dbxref=ASAP:ABE-0000006,ECOCYC:E...</td>\n",
       "      <td>66</td>\n",
       "    </tr>\n",
       "    <tr>\n",
       "      <td>3</td>\n",
       "      <td>NC_000913.3</td>\n",
       "      <td>RefSeq</td>\n",
       "      <td>gene</td>\n",
       "      <td>337</td>\n",
       "      <td>2799</td>\n",
       "      <td>.</td>\n",
       "      <td>+</td>\n",
       "      <td>.</td>\n",
       "      <td>ID=gene-b0002;Dbxref=ASAP:ABE-0000008,ECOCYC:E...</td>\n",
       "      <td>2463</td>\n",
       "    </tr>\n",
       "    <tr>\n",
       "      <td>5</td>\n",
       "      <td>NC_000913.3</td>\n",
       "      <td>RefSeq</td>\n",
       "      <td>gene</td>\n",
       "      <td>2801</td>\n",
       "      <td>3733</td>\n",
       "      <td>.</td>\n",
       "      <td>+</td>\n",
       "      <td>.</td>\n",
       "      <td>ID=gene-b0003;Dbxref=ASAP:ABE-0000010,ECOCYC:E...</td>\n",
       "      <td>933</td>\n",
       "    </tr>\n",
       "    <tr>\n",
       "      <td>7</td>\n",
       "      <td>NC_000913.3</td>\n",
       "      <td>RefSeq</td>\n",
       "      <td>gene</td>\n",
       "      <td>3734</td>\n",
       "      <td>5020</td>\n",
       "      <td>.</td>\n",
       "      <td>+</td>\n",
       "      <td>.</td>\n",
       "      <td>ID=gene-b0004;Dbxref=ASAP:ABE-0000012,ECOCYC:E...</td>\n",
       "      <td>1287</td>\n",
       "    </tr>\n",
       "    <tr>\n",
       "      <td>9</td>\n",
       "      <td>NC_000913.3</td>\n",
       "      <td>RefSeq</td>\n",
       "      <td>gene</td>\n",
       "      <td>5234</td>\n",
       "      <td>5530</td>\n",
       "      <td>.</td>\n",
       "      <td>+</td>\n",
       "      <td>.</td>\n",
       "      <td>ID=gene-b0005;Dbxref=ASAP:ABE-0000015,ECOCYC:G...</td>\n",
       "      <td>297</td>\n",
       "    </tr>\n",
       "    <tr>\n",
       "      <td>...</td>\n",
       "      <td>...</td>\n",
       "      <td>...</td>\n",
       "      <td>...</td>\n",
       "      <td>...</td>\n",
       "      <td>...</td>\n",
       "      <td>...</td>\n",
       "      <td>...</td>\n",
       "      <td>...</td>\n",
       "      <td>...</td>\n",
       "      <td>...</td>\n",
       "    </tr>\n",
       "    <tr>\n",
       "      <td>10109</td>\n",
       "      <td>NC_000913.3</td>\n",
       "      <td>RefSeq</td>\n",
       "      <td>gene</td>\n",
       "      <td>4636007</td>\n",
       "      <td>4636696</td>\n",
       "      <td>.</td>\n",
       "      <td>+</td>\n",
       "      <td>.</td>\n",
       "      <td>ID=gene-b4398;Dbxref=ASAP:ABE-0014428,ECOCYC:E...</td>\n",
       "      <td>690</td>\n",
       "    </tr>\n",
       "    <tr>\n",
       "      <td>10111</td>\n",
       "      <td>NC_000913.3</td>\n",
       "      <td>RefSeq</td>\n",
       "      <td>gene</td>\n",
       "      <td>4636696</td>\n",
       "      <td>4638120</td>\n",
       "      <td>.</td>\n",
       "      <td>+</td>\n",
       "      <td>.</td>\n",
       "      <td>ID=gene-b4399;Dbxref=ASAP:ABE-0014430,ECOCYC:E...</td>\n",
       "      <td>1425</td>\n",
       "    </tr>\n",
       "    <tr>\n",
       "      <td>10113</td>\n",
       "      <td>NC_000913.3</td>\n",
       "      <td>RefSeq</td>\n",
       "      <td>gene</td>\n",
       "      <td>4638178</td>\n",
       "      <td>4639530</td>\n",
       "      <td>.</td>\n",
       "      <td>+</td>\n",
       "      <td>.</td>\n",
       "      <td>ID=gene-b4400;Dbxref=ASAP:ABE-0014432,ECOCYC:E...</td>\n",
       "      <td>1353</td>\n",
       "    </tr>\n",
       "    <tr>\n",
       "      <td>10117</td>\n",
       "      <td>NC_000913.3</td>\n",
       "      <td>RefSeq</td>\n",
       "      <td>gene</td>\n",
       "      <td>4640402</td>\n",
       "      <td>4640542</td>\n",
       "      <td>.</td>\n",
       "      <td>+</td>\n",
       "      <td>.</td>\n",
       "      <td>ID=gene-b4402;Dbxref=ASAP:ABE-0014437,ECOCYC:G...</td>\n",
       "      <td>141</td>\n",
       "    </tr>\n",
       "    <tr>\n",
       "      <td>10119</td>\n",
       "      <td>NC_000913.3</td>\n",
       "      <td>RefSeq</td>\n",
       "      <td>gene</td>\n",
       "      <td>4640942</td>\n",
       "      <td>4641628</td>\n",
       "      <td>.</td>\n",
       "      <td>+</td>\n",
       "      <td>.</td>\n",
       "      <td>ID=gene-b4403;Dbxref=ASAP:ABE-0014442,ECOCYC:E...</td>\n",
       "      <td>687</td>\n",
       "    </tr>\n",
       "  </tbody>\n",
       "</table>\n",
       "<p>2173 rows × 10 columns</p>\n",
       "</div>"
      ],
      "text/plain": [
       "             seqid  source  type    start      end score strand phase  \\\n",
       "1      NC_000913.3  RefSeq  gene      190      255     .      +     .   \n",
       "3      NC_000913.3  RefSeq  gene      337     2799     .      +     .   \n",
       "5      NC_000913.3  RefSeq  gene     2801     3733     .      +     .   \n",
       "7      NC_000913.3  RefSeq  gene     3734     5020     .      +     .   \n",
       "9      NC_000913.3  RefSeq  gene     5234     5530     .      +     .   \n",
       "...            ...     ...   ...      ...      ...   ...    ...   ...   \n",
       "10109  NC_000913.3  RefSeq  gene  4636007  4636696     .      +     .   \n",
       "10111  NC_000913.3  RefSeq  gene  4636696  4638120     .      +     .   \n",
       "10113  NC_000913.3  RefSeq  gene  4638178  4639530     .      +     .   \n",
       "10117  NC_000913.3  RefSeq  gene  4640402  4640542     .      +     .   \n",
       "10119  NC_000913.3  RefSeq  gene  4640942  4641628     .      +     .   \n",
       "\n",
       "                                              attributes  length  \n",
       "1      ID=gene-b0001;Dbxref=ASAP:ABE-0000006,ECOCYC:E...      66  \n",
       "3      ID=gene-b0002;Dbxref=ASAP:ABE-0000008,ECOCYC:E...    2463  \n",
       "5      ID=gene-b0003;Dbxref=ASAP:ABE-0000010,ECOCYC:E...     933  \n",
       "7      ID=gene-b0004;Dbxref=ASAP:ABE-0000012,ECOCYC:E...    1287  \n",
       "9      ID=gene-b0005;Dbxref=ASAP:ABE-0000015,ECOCYC:G...     297  \n",
       "...                                                  ...     ...  \n",
       "10109  ID=gene-b4398;Dbxref=ASAP:ABE-0014428,ECOCYC:E...     690  \n",
       "10111  ID=gene-b4399;Dbxref=ASAP:ABE-0014430,ECOCYC:E...    1425  \n",
       "10113  ID=gene-b4400;Dbxref=ASAP:ABE-0014432,ECOCYC:E...    1353  \n",
       "10117  ID=gene-b4402;Dbxref=ASAP:ABE-0014437,ECOCYC:G...     141  \n",
       "10119  ID=gene-b4403;Dbxref=ASAP:ABE-0014442,ECOCYC:E...     687  \n",
       "\n",
       "[2173 rows x 10 columns]"
      ]
     },
     "execution_count": 22,
     "metadata": {},
     "output_type": "execute_result"
    }
   ],
   "source": [
    "gene_data_genes"
   ]
  },
  {
   "cell_type": "code",
   "execution_count": 23,
   "metadata": {},
   "outputs": [
    {
     "data": {
      "text/plain": [
       "904.2383801196503"
      ]
     },
     "execution_count": 23,
     "metadata": {},
     "output_type": "execute_result"
    }
   ],
   "source": [
    "gene_data_genes[\"length\"].mean()"
   ]
  },
  {
   "cell_type": "code",
   "execution_count": 24,
   "metadata": {},
   "outputs": [],
   "source": [
    "%matplotlib inline"
   ]
  },
  {
   "cell_type": "code",
   "execution_count": 26,
   "metadata": {},
   "outputs": [
    {
     "data": {
      "text/plain": [
       "<matplotlib.axes._subplots.AxesSubplot at 0x1f8e9b34a08>"
      ]
     },
     "execution_count": 26,
     "metadata": {},
     "output_type": "execute_result"
    },
    {
     "data": {
      "image/png": "[encoded data removed]",
      "text/plain": [
       "<Figure size 432x288 with 1 Axes>"
      ]
     },
     "metadata": {
      "needs_background": "light"
     },
     "output_type": "display_data"
    }
   ],
   "source": [
    "gene_data_genes[\"length\"].hist()"
   ]
  },
  {
   "cell_type": "code",
   "execution_count": 27,
   "metadata": {},
   "outputs": [
    {
     "data": {
      "image/png": "[encoded data removed]",
      "text/plain": [
       "<Figure size 432x288 with 1 Axes>"
      ]
     },
     "metadata": {
      "needs_background": "light"
     },
     "output_type": "display_data"
    }
   ],
   "source": [
    "ax=gene_data_genes[\"length\"].hist()"
   ]
  },
  {
   "cell_type": "code",
   "execution_count": 29,
   "metadata": {},
   "outputs": [],
   "source": [
    "fig=ax.get_figure()\n",
    "fig.savefig(\"trial.pdf\")"
   ]
  },
  {
   "cell_type": "code",
   "execution_count": null,
   "metadata": {},
   "outputs": [],
   "source": []
  }
 ],
 "metadata": {
  "kernelspec": {
   "display_name": "Python 3",
   "language": "python",
   "name": "python3"
  },
  "language_info": {
   "codemirror_mode": {
    "name": "ipython",
    "version": 3
   },
   "file_extension": ".py",
   "mimetype": "text/x-python",
   "name": "python",
   "nbconvert_exporter": "python",
   "pygments_lexer": "ipython3",
   "version": "3.7.4"
  }
 },
 "nbformat": 4,
 "nbformat_minor": 2
}
